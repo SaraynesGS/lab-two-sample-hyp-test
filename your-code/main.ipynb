{
 "cells": [
  {
   "cell_type": "markdown",
   "metadata": {},
   "source": [
    "# Before your start:\n",
    "- Read the README.md file\n",
    "- Comment as much as you can and use the resources (README.md file)\n",
    "- Happy learning!\n",
    "\n",
    "- **Consider a significance level of 5% for all tests.**"
   ]
  },
  {
   "cell_type": "code",
   "execution_count": 1,
   "metadata": {},
   "outputs": [],
   "source": [
    "# Libraries\n",
    "import pandas as pd # manipulate dataframes\n",
    "import numpy as np # numerical python\n",
    "import math # numerical python\n",
    "import matplotlib.pyplot as plt # viz\n",
    "\n",
    "# New libraries\n",
    "import scipy.stats as stats \n",
    "import statsmodels.api as sm\n",
    "import statsmodels.formula.api as smf"
   ]
  },
  {
   "cell_type": "markdown",
   "metadata": {},
   "source": [
    "# Challenge 1 - Independent Sample T-tests\n",
    "\n",
    "In this challenge, we will be using the Pokemon dataset. Before applying statistical methods to this data, let's first examine the data.\n",
    "\n",
    "To load the data, run the code below."
   ]
  },
  {
   "cell_type": "code",
   "execution_count": 2,
   "metadata": {},
   "outputs": [],
   "source": [
    "pokemon = pd.read_csv('../pokemon.csv')\n",
    "pokemon_df = pokemon.copy()"
   ]
  },
  {
   "cell_type": "markdown",
   "metadata": {},
   "source": [
    "Let's start off by looking at the `head` function in the cell below."
   ]
  },
  {
   "cell_type": "code",
   "execution_count": 3,
   "metadata": {},
   "outputs": [
    {
     "data": {
      "text/html": [
       "<div>\n",
       "<style scoped>\n",
       "    .dataframe tbody tr th:only-of-type {\n",
       "        vertical-align: middle;\n",
       "    }\n",
       "\n",
       "    .dataframe tbody tr th {\n",
       "        vertical-align: top;\n",
       "    }\n",
       "\n",
       "    .dataframe thead th {\n",
       "        text-align: right;\n",
       "    }\n",
       "</style>\n",
       "<table border=\"1\" class=\"dataframe\">\n",
       "  <thead>\n",
       "    <tr style=\"text-align: right;\">\n",
       "      <th></th>\n",
       "      <th>#</th>\n",
       "      <th>Name</th>\n",
       "      <th>Type 1</th>\n",
       "      <th>Type 2</th>\n",
       "      <th>Total</th>\n",
       "      <th>HP</th>\n",
       "      <th>Attack</th>\n",
       "      <th>Defense</th>\n",
       "      <th>Sp. Atk</th>\n",
       "      <th>Sp. Def</th>\n",
       "      <th>Speed</th>\n",
       "      <th>Generation</th>\n",
       "      <th>Legendary</th>\n",
       "    </tr>\n",
       "  </thead>\n",
       "  <tbody>\n",
       "    <tr>\n",
       "      <th>0</th>\n",
       "      <td>1</td>\n",
       "      <td>Bulbasaur</td>\n",
       "      <td>Grass</td>\n",
       "      <td>Poison</td>\n",
       "      <td>318</td>\n",
       "      <td>45</td>\n",
       "      <td>49</td>\n",
       "      <td>49</td>\n",
       "      <td>65</td>\n",
       "      <td>65</td>\n",
       "      <td>45</td>\n",
       "      <td>1</td>\n",
       "      <td>False</td>\n",
       "    </tr>\n",
       "    <tr>\n",
       "      <th>1</th>\n",
       "      <td>2</td>\n",
       "      <td>Ivysaur</td>\n",
       "      <td>Grass</td>\n",
       "      <td>Poison</td>\n",
       "      <td>405</td>\n",
       "      <td>60</td>\n",
       "      <td>62</td>\n",
       "      <td>63</td>\n",
       "      <td>80</td>\n",
       "      <td>80</td>\n",
       "      <td>60</td>\n",
       "      <td>1</td>\n",
       "      <td>False</td>\n",
       "    </tr>\n",
       "    <tr>\n",
       "      <th>2</th>\n",
       "      <td>3</td>\n",
       "      <td>Venusaur</td>\n",
       "      <td>Grass</td>\n",
       "      <td>Poison</td>\n",
       "      <td>525</td>\n",
       "      <td>80</td>\n",
       "      <td>82</td>\n",
       "      <td>83</td>\n",
       "      <td>100</td>\n",
       "      <td>100</td>\n",
       "      <td>80</td>\n",
       "      <td>1</td>\n",
       "      <td>False</td>\n",
       "    </tr>\n",
       "    <tr>\n",
       "      <th>3</th>\n",
       "      <td>3</td>\n",
       "      <td>VenusaurMega Venusaur</td>\n",
       "      <td>Grass</td>\n",
       "      <td>Poison</td>\n",
       "      <td>625</td>\n",
       "      <td>80</td>\n",
       "      <td>100</td>\n",
       "      <td>123</td>\n",
       "      <td>122</td>\n",
       "      <td>120</td>\n",
       "      <td>80</td>\n",
       "      <td>1</td>\n",
       "      <td>False</td>\n",
       "    </tr>\n",
       "    <tr>\n",
       "      <th>4</th>\n",
       "      <td>4</td>\n",
       "      <td>Charmander</td>\n",
       "      <td>Fire</td>\n",
       "      <td>NaN</td>\n",
       "      <td>309</td>\n",
       "      <td>39</td>\n",
       "      <td>52</td>\n",
       "      <td>43</td>\n",
       "      <td>60</td>\n",
       "      <td>50</td>\n",
       "      <td>65</td>\n",
       "      <td>1</td>\n",
       "      <td>False</td>\n",
       "    </tr>\n",
       "  </tbody>\n",
       "</table>\n",
       "</div>"
      ],
      "text/plain": [
       "   #                   Name Type 1  Type 2  Total  HP  Attack  Defense  \\\n",
       "0  1              Bulbasaur  Grass  Poison    318  45      49       49   \n",
       "1  2                Ivysaur  Grass  Poison    405  60      62       63   \n",
       "2  3               Venusaur  Grass  Poison    525  80      82       83   \n",
       "3  3  VenusaurMega Venusaur  Grass  Poison    625  80     100      123   \n",
       "4  4             Charmander   Fire     NaN    309  39      52       43   \n",
       "\n",
       "   Sp. Atk  Sp. Def  Speed  Generation  Legendary  \n",
       "0       65       65     45           1      False  \n",
       "1       80       80     60           1      False  \n",
       "2      100      100     80           1      False  \n",
       "3      122      120     80           1      False  \n",
       "4       60       50     65           1      False  "
      ]
     },
     "execution_count": 3,
     "metadata": {},
     "output_type": "execute_result"
    }
   ],
   "source": [
    "pokemon_df.head(5)"
   ]
  },
  {
   "cell_type": "markdown",
   "metadata": {},
   "source": [
    "The first thing we would like to do is compare the legendary Pokemon to the regular Pokemon. To do this, we should examine the data further. What is the count of legendary vs. non legendary Pokemons?"
   ]
  },
  {
   "cell_type": "code",
   "execution_count": 4,
   "metadata": {},
   "outputs": [
    {
     "name": "stdout",
     "output_type": "stream",
     "text": [
      "   Legendary  Name\n",
      "0      False   735\n",
      "1       True    65\n"
     ]
    }
   ],
   "source": [
    "pokemon_df_legendary = pokemon_df.groupby('Legendary')['Name'].count().reset_index() \n",
    "\n",
    "print(round(pokemon_df_legendary,2))"
   ]
  },
  {
   "cell_type": "markdown",
   "metadata": {},
   "source": [
    "Compute the mean and standard deviation of the total points for both legendary and non-legendary Pokemon."
   ]
  },
  {
   "cell_type": "code",
   "execution_count": 5,
   "metadata": {},
   "outputs": [
    {
     "name": "stdout",
     "output_type": "stream",
     "text": [
      "   Legendary    Mean\n",
      "0      False  417.21\n",
      "1       True  637.38\n",
      "   Legendary     Std\n",
      "0      False  106.76\n",
      "1       True   60.94\n"
     ]
    }
   ],
   "source": [
    "pokemon_df_legendary_mean = pokemon_df.groupby('Legendary')['Total'].mean().reset_index(name = \"Mean\")\n",
    "pokemon_df_legendary_std = pokemon_df.groupby('Legendary')['Total'].std().reset_index(name = \"Std\")\n",
    "print(round(pokemon_df_legendary_mean,2))\n",
    "print(round(pokemon_df_legendary_std,2))"
   ]
  },
  {
   "cell_type": "markdown",
   "metadata": {},
   "source": [
    "The computation of the mean might give us a clue regarding how the statistical test may turn out; However, it certainly does not prove whether there is a significant difference between the two groups.\n",
    "\n",
    "In the cell below, use the `ttest_ind` function in `scipy.stats` to compare the the total points for legendary and non-legendary Pokemon. Since we do not have any information about the population, assume the variances are not equal."
   ]
  },
  {
   "cell_type": "code",
   "execution_count": 6,
   "metadata": {},
   "outputs": [
    {
     "name": "stdout",
     "output_type": "stream",
     "text": [
      "Test Statistic (t): 25.83\n",
      "P-Value: 0.0000\n",
      "\n"
     ]
    }
   ],
   "source": [
    "# Extract Total for legendary and non legendary pokemons\n",
    "legendary_pokemon    = pokemon_df[pokemon_df[\"Legendary\"] == True][\"Total\"].dropna()\n",
    "nonlegendary_pokemon = pokemon_df[pokemon_df[\"Legendary\"] == False][\"Total\"].dropna()\n",
    "\n",
    "# Perform two-sample t-test for independent samples\n",
    "t_stat, p_value = stats.ttest_ind(legendary_pokemon, nonlegendary_pokemon, equal_var=False) # equal_var True for Welch's test (more robus, relies less on variance)\n",
    "print(f\"Test Statistic (t): {t_stat:.2f}\")\n",
    "print(f\"P-Value: {p_value:.4f}\")\n",
    "print()"
   ]
  },
  {
   "cell_type": "markdown",
   "metadata": {},
   "source": [
    "What do you conclude from this test? Write your conclusions below."
   ]
  },
  {
   "cell_type": "code",
   "execution_count": 7,
   "metadata": {},
   "outputs": [
    {
     "name": "stdout",
     "output_type": "stream",
     "text": [
      "Reject the Null Hypothesis: There is sufficient evidence to conclude that the mean in total points are different for legendary and non legendary pokemon.\n"
     ]
    }
   ],
   "source": [
    "# Significance level\n",
    "alpha = 0.05\n",
    "\n",
    "# Decision-Making\n",
    "if p_value > alpha:\n",
    "    print(\"Fail to Reject the Null Hypothesis: The mean of total points for legendary and non legendary pokemons are not significantly different.\")\n",
    "else:\n",
    "    print(\"Reject the Null Hypothesis: There is sufficient evidence to conclude that the mean in total points are different for legendary and non legendary pokemon.\")"
   ]
  },
  {
   "cell_type": "markdown",
   "metadata": {},
   "source": [
    "How about we try to compare the different types of pokemon? In the cell below, list the types of Pokemon from column `Type 1` and the count of each type."
   ]
  },
  {
   "cell_type": "code",
   "execution_count": 8,
   "metadata": {},
   "outputs": [
    {
     "name": "stdout",
     "output_type": "stream",
     "text": [
      "      Type 1    Mean\n",
      "0        Bug  378.93\n",
      "1       Dark  445.74\n",
      "2     Dragon  550.53\n",
      "3   Electric  443.41\n",
      "4      Fairy  413.18\n",
      "5   Fighting  416.44\n",
      "6       Fire  458.08\n",
      "7     Flying  485.00\n",
      "8      Ghost  439.56\n",
      "9      Grass  421.14\n",
      "10    Ground  437.50\n",
      "11       Ice  433.46\n",
      "12    Normal  401.68\n",
      "13    Poison  399.14\n",
      "14   Psychic  475.95\n",
      "15      Rock  453.75\n",
      "16     Steel  487.70\n",
      "17     Water  430.46\n",
      "      Type 1     Std\n",
      "0        Bug  117.88\n",
      "1       Dark  109.13\n",
      "2     Dragon  146.27\n",
      "3   Electric  105.72\n",
      "4      Fairy  123.78\n",
      "5   Fighting  102.46\n",
      "6       Fire  109.76\n",
      "7     Flying  161.40\n",
      "8      Ghost  110.07\n",
      "9      Grass  106.65\n",
      "10    Ground  123.91\n",
      "11       Ice  108.28\n",
      "12    Normal  115.73\n",
      "13    Poison   92.36\n",
      "14   Psychic  139.03\n",
      "15      Rock  108.06\n",
      "16     Steel  115.42\n",
      "17     Water  113.19\n"
     ]
    }
   ],
   "source": [
    "pokemon_df_type1_mean = pokemon_df.groupby('Type 1')['Total'].mean().reset_index(name = \"Mean\")\n",
    "pokemon_df_type1_std = pokemon_df.groupby('Type 1')['Total'].std().reset_index(name = \"Std\")\n",
    "print(round(pokemon_df_type1_mean,2))\n",
    "print(round(pokemon_df_type1_std,2))"
   ]
  },
  {
   "cell_type": "markdown",
   "metadata": {},
   "source": [
    "Since water is the largest group of Pokemon, compare the mean and standard deviation of water Pokemon to all other Pokemon."
   ]
  },
  {
   "cell_type": "code",
   "execution_count": 9,
   "metadata": {},
   "outputs": [],
   "source": [
    "# Extract Total for water and non water pokemons\n",
    "water_pokemon    = pokemon_df[pokemon_df[\"Type 1\"] == \"Water\"][\"Total\"].dropna()\n",
    "nonwater_pokemon = pokemon_df[pokemon_df[\"Type 1\"] != \"Water\"][\"Total\"].dropna()"
   ]
  },
  {
   "cell_type": "markdown",
   "metadata": {},
   "source": [
    "Perform a hypothesis test comparing the mean of total points for water Pokemon to all non-water Pokemon. Assume the variances are equal. "
   ]
  },
  {
   "cell_type": "code",
   "execution_count": 10,
   "metadata": {},
   "outputs": [
    {
     "name": "stdout",
     "output_type": "stream",
     "text": [
      "Test Statistic (t): -0.44\n",
      "P-Value: 0.6587\n",
      "\n"
     ]
    }
   ],
   "source": [
    "# Perform two-sample t-test for independent samples\n",
    "wt_stat, wp_value = stats.ttest_ind(water_pokemon, nonwater_pokemon, equal_var=True) # equal_var True for Welch's test (more robus, relies less on variance)\n",
    "print(f\"Test Statistic (t): {wt_stat:.2f}\")\n",
    "print(f\"P-Value: {wp_value:.4f}\")\n",
    "print()"
   ]
  },
  {
   "cell_type": "markdown",
   "metadata": {},
   "source": [
    "Write your conclusion below."
   ]
  },
  {
   "cell_type": "code",
   "execution_count": 11,
   "metadata": {},
   "outputs": [
    {
     "name": "stdout",
     "output_type": "stream",
     "text": [
      "Fail to Reject the Null Hypothesis: The mean of total points for waater and non water pokemons are not significantly different.\n"
     ]
    }
   ],
   "source": [
    "# Significance level\n",
    "alpha = 0.05\n",
    "\n",
    "# Decision-Making\n",
    "if wp_value > alpha:\n",
    "    print(\"Fail to Reject the Null Hypothesis: The mean of total points for waater and non water pokemons are not significantly different.\")\n",
    "else:\n",
    "    print(\"Reject the Null Hypothesis: There is sufficient evidence to conclude that the mean in total points are different for water and non water pokemon.\")"
   ]
  },
  {
   "cell_type": "markdown",
   "metadata": {},
   "source": [
    "# Challenge 2 - Matched Pairs Test\n",
    "\n",
    "In this challenge we will compare dependent samples of data describing our Pokemon. Our goal is to see whether there is a significant difference between each Pokemon's defense and attack scores. Our hypothesis is that the defense and attack scores are equal. In the cell below, import the `ttest_rel` function from `scipy.stats` and compare the two columns to see if there is a statistically significant difference between them."
   ]
  },
  {
   "cell_type": "code",
   "execution_count": 12,
   "metadata": {},
   "outputs": [],
   "source": [
    "# Attack and defense scores\n",
    "pokemon_attack  = pokemon_df[\"Attack\"]\n",
    "pokemon_defense = pokemon_df[\"Defense\"]"
   ]
  },
  {
   "cell_type": "markdown",
   "metadata": {},
   "source": [
    "Describe the results of the test in the cell below."
   ]
  },
  {
   "cell_type": "code",
   "execution_count": 16,
   "metadata": {},
   "outputs": [
    {
     "name": "stdout",
     "output_type": "stream",
     "text": [
      "Test Statistic (t): 4.33\n",
      "P-Value: 0.00002\n",
      "\n",
      "Reject the Null Hypothesis: There is a significant difference between defense and attack scores.\n"
     ]
    }
   ],
   "source": [
    "# Perform paired t-test\n",
    "pkp_stat, pkp_value = stats.ttest_rel(pokemon_attack, pokemon_defense)\n",
    "print(f\"Test Statistic (t): {pkp_stat:.2f}\")\n",
    "print(f\"P-Value: {pkp_value:.5f}\")\n",
    "print()\n",
    "\n",
    "# Significance level\n",
    "alpha = 0.05\n",
    "\n",
    "# Decision-Making\n",
    "if pkp_value > alpha:\n",
    "    print(\"Fail to Reject the Null Hypothesis: No significant difference between defense and attack scores.\")\n",
    "else:\n",
    "    print(\"Reject the Null Hypothesis: There is a significant difference between defense and attack scores.\")"
   ]
  },
  {
   "cell_type": "markdown",
   "metadata": {},
   "source": [
    "We are also curious about whether therer is a significant difference between the mean of special defense and the mean of special attack. Perform the hypothesis test in the cell below. "
   ]
  },
  {
   "cell_type": "code",
   "execution_count": 17,
   "metadata": {},
   "outputs": [
    {
     "name": "stdout",
     "output_type": "stream",
     "text": [
      "Test Statistic (t): 4.33\n",
      "P-Value: 0.00002\n"
     ]
    }
   ],
   "source": [
    "# Special attack and special defense scores\n",
    "pokemon_sp_attack  = pokemon_df[\"Sp. Atk\"]\n",
    "pokemon_sp_defense = pokemon_df[\"Sp. Def\"]\n",
    "\n",
    "# Perform paired t-test\n",
    "spkp_stat, spkp_value = stats.ttest_rel(pokemon_attack, pokemon_defense)\n",
    "print(f\"Test Statistic (t): {spkp_stat:.2f}\")\n",
    "print(f\"P-Value: {spkp_value:.5f}\")"
   ]
  },
  {
   "cell_type": "markdown",
   "metadata": {},
   "source": [
    "Describe the results of the test in the cell below."
   ]
  },
  {
   "cell_type": "code",
   "execution_count": 19,
   "metadata": {},
   "outputs": [
    {
     "name": "stdout",
     "output_type": "stream",
     "text": [
      "Reject the Null Hypothesis: There is a significant difference between special defense and special attack scores.\n"
     ]
    }
   ],
   "source": [
    "# Significance level\n",
    "alpha = 0.05\n",
    "\n",
    "# Decision-Making\n",
    "if spkp_value > alpha:\n",
    "    print(\"Fail to Reject the Null Hypothesis: No significant difference between special defense and special attack scores.\")\n",
    "else:\n",
    "    print(\"Reject the Null Hypothesis: There is a significant difference between special defense and special attack scores.\")"
   ]
  },
  {
   "cell_type": "markdown",
   "metadata": {},
   "source": [
    "As you may recall, a two sample matched pairs test can also be expressed as a one sample test of the difference between the two dependent columns.\n",
    "\n",
    "Import the `ttest_1samp` function and perform a one sample t-test of the difference between defense and attack. Test the hypothesis that the difference between the means is zero. Confirm that the results of the test are the same."
   ]
  },
  {
   "cell_type": "code",
   "execution_count": 23,
   "metadata": {},
   "outputs": [
    {
     "name": "stdout",
     "output_type": "stream",
     "text": [
      "Test Statistic (t): 4.33\n",
      "P-Value: 0.0000\n",
      "\n",
      "Reject the Null Hypothesis: There is evidence to say the mean of the difference is not cero.\n"
     ]
    }
   ],
   "source": [
    "pokemon_df['pokemon_dif'] = pokemon_df[\"Attack\"] - pokemon_df[\"Defense\"]\n",
    "pokemon_diff  = pokemon_df[\"pokemon_dif\"]\n",
    "pokemon_dif_mu = 0\n",
    "\n",
    "# One-Tailed Test \n",
    "dif_t_stat, dif_p_value = stats.ttest_1samp(pokemon_diff, pokemon_dif_mu)\n",
    "print(f\"Test Statistic (t): {dif_t_stat:.2f}\")\n",
    "print(f\"P-Value: {dif_p_value:.4f}\")\n",
    "print()\n",
    "\n",
    "if dif_p_value > alpha:\n",
    "    print(\"Fail to Reject the Null Hypothesis: Not enough evidence to say the mean of the difference is cero.\")\n",
    "else:\n",
    "    print(\"Reject the Null Hypothesis: There is evidence to say the mean of the difference is not cero.\")  "
   ]
  },
  {
   "cell_type": "markdown",
   "metadata": {},
   "source": [
    "# Bonus Challenge - The Chi-Square Test\n",
    "\n",
    "The Chi-Square test is used to determine whether there is a statistically significant difference in frequencies. In other words, we are testing whether there is a relationship between categorical variables or rather when the variables are independent. This test is an alternative to Fisher's exact test and is used in scenarios where sample sizes are larger. However, with a large enough sample size, both tests produce similar results. Read more about the Chi Squared test [here](https://en.wikipedia.org/wiki/Chi-squared_test).\n",
    "\n",
    "In the cell below, create a contingency table using `pd.crosstab` comparing whether a Pokemon is legenadary or not and whether the Type 1 of a Pokemon is water or not."
   ]
  },
  {
   "cell_type": "code",
   "execution_count": 40,
   "metadata": {},
   "outputs": [
    {
     "name": "stdout",
     "output_type": "stream",
     "text": [
      "Type1_water  False  True \n",
      "Legendary                \n",
      "False          627    108\n",
      "True            61      4\n"
     ]
    }
   ],
   "source": [
    "pokemon_df['Type1_water'] = pokemon_df['Type 1'] == 'Water'\n",
    "crosstab_result = pd.crosstab(pokemon_df['Legendary'], pokemon_df['Type1_water'])\n",
    "\n",
    "print(crosstab_result)"
   ]
  },
  {
   "cell_type": "markdown",
   "metadata": {},
   "source": [
    "Perform a chi-squared test using the `chi2_contingency` function in `scipy.stats`. You can read the documentation of the function [here](https://docs.scipy.org/doc/scipy-0.15.1/reference/generated/scipy.stats.chi2_contingency.html)."
   ]
  },
  {
   "cell_type": "code",
   "execution_count": 42,
   "metadata": {},
   "outputs": [
    {
     "data": {
      "text/plain": [
       "Chi2ContingencyResult(statistic=2.9429200762850503, pvalue=0.08625467249550985, dof=1, expected_freq=array([[632.1, 102.9],\n",
       "       [ 55.9,   9.1]]))"
      ]
     },
     "execution_count": 42,
     "metadata": {},
     "output_type": "execute_result"
    }
   ],
   "source": [
    "stats.chi2_contingency(crosstab_result)\n"
   ]
  },
  {
   "cell_type": "markdown",
   "metadata": {},
   "source": [
    "Based on a 95% confidence, should we reject the null hypothesis?"
   ]
  },
  {
   "cell_type": "code",
   "execution_count": 44,
   "metadata": {},
   "outputs": [
    {
     "name": "stdout",
     "output_type": "stream",
     "text": [
      "Fail to Reject the Null Hypothesis\n"
     ]
    }
   ],
   "source": [
    "pvalue_cross = 0.08625467249550985\n",
    "\n",
    "if pvalue_cross > alpha:\n",
    "    print(\"Fail to Reject the Null Hypothesis\")\n",
    "else:\n",
    "    print(\"Reject the Null Hypothesis\")  "
   ]
  }
 ],
 "metadata": {
  "kernelspec": {
   "display_name": "Python 3",
   "language": "python",
   "name": "python3"
  },
  "language_info": {
   "codemirror_mode": {
    "name": "ipython",
    "version": 3
   },
   "file_extension": ".py",
   "mimetype": "text/x-python",
   "name": "python",
   "nbconvert_exporter": "python",
   "pygments_lexer": "ipython3",
   "version": "3.12.4"
  }
 },
 "nbformat": 4,
 "nbformat_minor": 2
}
